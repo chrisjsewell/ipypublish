{
    "cells": [
        {
            "cell_type": "markdown",
            "metadata": {},
            "source": [
                ".. _code_cells:\n",
                "\n",
                "# Writing Code and Formatting Output\n",
                "\n",
                "IPyPublish utilises metadata to mark-up the notebook with information on\n",
                "how output should be represented in the converted notebook,\n",
                "as shown in :numref:`fig:mpl1`."
            ]
        },
        {
            "cell_type": "code",
            "execution_count": null,
            "metadata": {
                "ipub": {
                    "figure": {
                        "caption": "This is a Matplotlib figure, with a caption, a label and a set width",
                        "label": "fig:mpl1",
                        "width": 0.4
                    }
                }
            },
            "outputs": [],
            "source": [
                "%matplotlib inline\n",
                "import matplotlib.pyplot as plt\n",
                "import numpy as np\n",
                "plt.plot(np.sin(np.linspace(0, 6)))\n",
                "plt.show()"
            ]
        },
        {
            "cell_type": "markdown",
            "metadata": {},
            "source": [
                ".. seealso::\n",
                "\n",
                "    [The PDF representation of this notebook](_static/code_cells.pdf)\n",
                "\n",
                "    :ref:`metadata_tags`, for a full description and list of ipypublish metadata\n",
                "\n",
                ".. _jupytext_python:\n",
                "\n",
                "## Converting Notebooks to Pure Python\n",
                "\n",
                "To write code, we can work in the conventional Jupyter Notebook environment,\n",
                "or we can use [jupytext](https://github.com/mwouts/jupytext),\n",
                "to convert between a notebook and the pure python\n",
                "[percent format](https://github.com/mwouts/jupytext#the-percent-format)\n",
                "\n",
                "```console\n",
                "$ jupytext --to py:percent notebook.ipynb\n",
                "$ jupytext --to notebook notebook.py            # overwrite notebook.ipynb\n",
                "$ jupytext --to notebook --update notebook.py   # update notebook.ipynb\n",
                "```\n",
                "\n",
                "This will produce a standard python file,\n",
                "with commented notebook level metadata commented at the top (in YAML format),\n",
                "and each cell beginning with ``#%%`` (known as the percent format):\n",
                "\n",
                "The percent format can be utilised in IDEs, such as\n",
                "[Spyder](https://docs.spyder-ide.org/editor.html#defining-code-cells),\n",
                "[Atom](https://atom.io/packages/hydrogen),\n",
                "[PyCharm](https://www.jetbrains.com/pycharm/), and\n",
                "[VS Code](https://code.visualstudio.com/docs/python/jupyter-support),\n",
                "to run individual cells:\n",
                "\n",
                "![Running Notebooks in VS Code](_static/vscode_python.png){#fig:vscode_py width=60%}\n",
                "\n",
                ".. important::\n",
                "\n",
                "    To preserve ipypublish notebook metadata, you must add:\n",
                "    `\"jupytext\": {\"metadata_filter\": {\"notebook\": \"ipub\"}}` to\n",
                "    your notebooks metadata before conversion.\n",
                "\n",
                ".. seealso::\n",
                "\n",
                "    :ref:`jupytext_rmarkdown`\n",
                "\n",
                "    [Using YAML metadata blocks in Pandoc](https://pandoc.org/MANUAL.html#extension-yaml_metadata_block).\n",
                "\n",
                "## NB Setup Helper Functions\n",
                "\n",
                ":py:mod:`ipypublish.scripts.nb_setup` offers a number of useful functions,\n",
                "to setup common packages (matplotlib, pandas, etc) for outputting content\n",
                "in high quality formats."
            ]
        },
        {
            "cell_type": "code",
            "execution_count": null,
            "metadata": {
                "init_cell": true,
                "slideshow": {
                    "slide_type": "skip"
                }
            },
            "outputs": [],
            "source": [
                "from ipypublish import nb_setup"
            ]
        },
        {
            "cell_type": "markdown",
            "metadata": {},
            "source": [
                ".. note::\n",
                "\n",
                "    `ipypublish.scripts.ipynb_latex_setup` is deprecated in v0.9\n",
                "\n",
                "## Text Output"
            ]
        },
        {
            "cell_type": "code",
            "execution_count": null,
            "metadata": {
                "ipub": {
                    "text": {
                        "format": {
                            "backgroundcolor": "\\color{blue!10}"
                        }
                    }
                }
            },
            "outputs": [],
            "source": [
                "print(\"\"\"\n",
                "This is some printed text,\n",
                "with a nicely formatted output.\n",
                "\"\"\")"
            ]
        },
        {
            "cell_type": "markdown",
            "metadata": {},
            "source": [
                "## Images (with PIL)"
            ]
        },
        {
            "cell_type": "code",
            "execution_count": null,
            "metadata": {
                "init_cell": true,
                "slideshow": {
                    "slide_type": "skip"
                }
            },
            "outputs": [],
            "source": [
                "import os\n",
                "from ipypublish.tests import TEST_PIC_PATH\n"
            ]
        },
        {
            "cell_type": "code",
            "execution_count": null,
            "metadata": {
                "ipub": {
                    "figure": {
                        "caption": "Horizontally aligned images.",
                        "label": "fig:example_h",
                        "widefigure": false
                    }
                }
            },
            "outputs": [],
            "source": [
                "nb_setup.images_hconcat([TEST_PIC_PATH, TEST_PIC_PATH],\n",
                "               width=600, gap=10)"
            ]
        },
        {
            "cell_type": "code",
            "execution_count": null,
            "metadata": {
                "ipub": {
                    "figure": {
                        "caption": "Vertically aligned images.",
                        "label": "fig:example_v",
                        "widefigure": false
                    },
                    "slide": "new"
                }
            },
            "outputs": [],
            "source": [
                "nb_setup.images_vconcat([TEST_PIC_PATH, TEST_PIC_PATH],\n",
                "               height=400, gap=10)"
            ]
        },
        {
            "cell_type": "code",
            "execution_count": null,
            "metadata": {
                "ipub": {
                    "figure": {
                        "caption": "Images aligned in a grid.",
                        "label": "fig:example_grid",
                        "widefigure": false
                    },
                    "slide": "new"
                }
            },
            "outputs": [],
            "source": [
                "nb_setup.images_gridconcat([[_,_] for _ in [TEST_PIC_PATH, TEST_PIC_PATH]],\n",
                "               height=300, vgap=10,hgap=20)"
            ]
        },
        {
            "cell_type": "markdown",
            "metadata": {},
            "source": [
                "## Plots (with Matplotlib)\n",
                "\n",
                "A matplotlib figure (+@fig:example_mpl{}), and its code (+@code:example_mpl{})."
            ]
        },
        {
            "cell_type": "code",
            "execution_count": null,
            "metadata": {
                "ipub": {
                    "code": {
                        "asfloat": true,
                        "caption": "The plotting code for a matplotlib figure (\\cref{fig:example_mpl}).",
                        "label": "code:example_mpl",
                        "widefigure": false
                    },
                    "figure": {
                        "caption": "A matplotlib figure",
                        "label": "fig:example_mpl",
                        "widefigure": false,
                        "width": 0.7
                    }
                }
            },
            "outputs": [],
            "source": [
                "plt = nb_setup.setup_matplotlib(output=('pdf','svg'))\n",
                "plt.scatter(np.random.rand(10), np.random.rand(10),\n",
                "            label='data label')\n",
                "plt.ylabel(r'a y label with latex $\\alpha$')\n",
                "plt.legend();"
            ]
        },
        {
            "cell_type": "markdown",
            "metadata": {},
            "source": [
                ".. note::\n",
                "\n",
                "    If outputting the Matplotlib figures in a PDF format.\n",
                "    See [usetex tutorial](https://matplotlib.org/users/usetex.html#usetex-tutorial), \n",
                "    and [Stackoverflow question](https://stackoverflow.com/questions/38731201/latex-escaping-in-matplotlib).\n",
                "\n",
                "## Tables (with pandas)\n",
                "\n",
                "A pandas table (+@tbl:example_pd{}), and its code (+@code:example_pd{})."
            ]
        },
        {
            "cell_type": "code",
            "execution_count": null,
            "metadata": {
                "ipub": {
                    "code": {
                        "asfloat": true,
                        "caption": "The plotting code for a pandas Dataframe table (\\cref{tbl:example_pd}).",
                        "label": "code:example_pd",
                        "placement": "H",
                        "widefigure": false
                    },
                    "table": {
                        "alternate": "gray!20",
                        "caption": "An example of a table created with a pandas dataframe.",
                        "label": "tbl:example_pd",
                        "placement": "H"
                    }
                }
            },
            "outputs": [],
            "source": [
                "pd = nb_setup.setup_pandas(escape_latex=False)\n",
                "df = pd.DataFrame(np.random.rand(3,4),columns=['a','b','c','d'])\n",
                "df.a = ['$\\delta$','x','y']\n",
                "df.b = ['l','m','n']\n",
                "df.set_index(['a','b'])\n",
                "df.round(3)"
            ]
        },
        {
            "cell_type": "markdown",
            "metadata": {},
            "source": [
                ".. note::\n",
                "\n",
                "    If using `escape_latex=False`, then PDF conversion will throw an error \n",
                "    if there are e.g. `_`'s in your column names. You either need to escape\n",
                "    these manually (`\\_`) or use `escape_latex=True`. But note that, \n",
                "    `escape_latex=True` will also escape math (e.g. `$\\delta$`) causing it not\n",
                "    to render.\n",
                "\n",
                "## Equations (with ipython or sympy)\n",
                "\n",
                "An ipython and sympy equation =[@eqn:example_ipy;@eqn:example_sympy]."
            ]
        },
        {
            "cell_type": "code",
            "execution_count": null,
            "metadata": {
                "ipub": {
                    "equation": {
                        "label": "eqn:example_ipy"
                    }
                }
            },
            "outputs": [],
            "source": [
                "from IPython.display import Latex\n",
                "Latex('$$ a = b+c $$')"
            ]
        },
        {
            "cell_type": "code",
            "execution_count": null,
            "metadata": {
                "ipub": {
                    "code": {
                        "asfloat": true,
                        "caption": "The plotting code for a sympy equation \\eqref{eqn:example_sympy}.",
                        "label": "code:example_sym",
                        "placement": "H",
                        "widefigure": false
                    },
                    "equation": {
                        "environment": "equation",
                        "label": "eqn:example_sympy"
                    }
                }
            },
            "outputs": [],
            "source": [
                "sym = nb_setup.setup_sympy()\n",
                "f = sym.Function('f')\n",
                "y = sym.Function('y')\n",
                "n = sym.symbols(r'\\alpha')\n",
                "f = y(n)-2*y(n-1/sym.pi)-5*y(n-2)\n",
                "sym.rsolve(f,y(n),[1,4])"
            ]
        },
        {
            "cell_type": "markdown",
            "metadata": {},
            "source": [
                "## Object Output Formats\n",
                "\n",
                "The format of the Jupyter Notebook file allows for the storage\n",
                "of a single output in multiple formats. This is taken advantage of by\n",
                "packages such as matplotlib and pandas, etc to store a figure/table in\n",
                "both latex and html formats, which can then be selected by ipypublish\n",
                "based on the document type required.\n",
                "\n",
                "Sometimes a user may wish to have greater control over the output format\n",
                "and/or which output types are to be stored. It it possible to achieve\n",
                "this *via* the Jupyter `display` function. For example, if we wanted\n",
                "to display a pandas.DataFrame table without the index column, such that\n",
                "it can be output to both a pdf and html document:"
            ]
        },
        {
            "cell_type": "code",
            "execution_count": null,
            "metadata": {},
            "outputs": [],
            "source": [
                "from IPython.display import display\n",
                "df = pd.DataFrame(np.random.random((3, 3)))\n",
                "latex = df.to_latex(index=False)\n",
                "html = df.to_html(index=False)\n",
                "display({'text/latex': latex,\n",
                "        'text/html': html}, raw=True)"
            ]
        },
        {
            "cell_type": "markdown",
            "metadata": {},
            "source": [
                "If you wish to create your own object with multiple output formats, you\n",
                "should create a class with multiple `_repr_*_()` methods:"
            ]
        },
        {
            "cell_type": "code",
            "execution_count": null,
            "metadata": {
                "ipub": {
                    "equation": false,
                    "table": false
                }
            },
            "outputs": [],
            "source": [
                "class MyObject(object):\n",
                "    def __init__(self, text):\n",
                "        self.text = text\n",
                "\n",
                "    def _repr_latex_(self):\n",
                "        return \"\\\\textbf{LaTex: \" + self.text + \"}\"\n",
                "\n",
                "    def _repr_html_(self):\n",
                "        return \"<b>HTML: \" + self.text + \"</b>\"\n",
                "\n",
                "MyObject('hallo')"
            ]
        },
        {
            "cell_type": "markdown",
            "metadata": {},
            "source": [
                ".. seealso::\n",
                "\n",
                "    :ref:`nbformat:notebook_file_format`\n",
                "\n",
                "    [IPython Rich Display](http://ipython.readthedocs.io/en/stable/config/integrating.html#rich-display)\n",
                "\n",
                ".. _multiple_outputs:\n",
                "\n",
                "## Multiple Outputs from a Single Code Cell\n",
                "\n",
                "Similarly, with the Jupyter `display` functionality, you can control the output\n",
                "metadata for multiple outputs in a single code cell:"
            ]
        },
        {
            "cell_type": "code",
            "execution_count": null,
            "metadata": {},
            "outputs": [],
            "source": [
                "from IPython.display import display\n",
                "from IPython.display import display_latex\n",
                "from IPython.display import display_markdown\n",
                "\n",
                "x = np.linspace(0, 3.42)\n",
                "\n",
                "for i in range(1,3):\n",
                "\n",
                "    display_markdown(\n",
                "      '### Code Created Heading {0}'.format(i), raw=True)\n",
                "\n",
                "    fig, ax = plt.subplots()\n",
                "    ax.plot(x, np.sin(x*i))\n",
                "    metadata={'ipub': {\n",
                "      'figure': {\n",
                "        'caption': 'Code Created Heading {0}'.format(i)}}}\n",
                "    display(fig, metadata=metadata)\n",
                "    plt.close()\n"
            ]
        }
    ],
    "metadata": {
        "ipub": {
            "language": "british",
            "listcode": true,
            "listfigures": true,
            "listtables": true,
            "pandoc": {
                "at_notation": true,
                "convert_raw": true,
                "use_numref": true
            },
            "sphinx": {
                "toggle_input": true,
                "toggle_input_all": true,
                "toggle_output": true,
                "toggle_output_all": true
            },
            "titlepage": {
                "author": "Chris Sewell",
                "email": "chrisj\\_sewell@hotmail.com",
                "institution": [
                    "Institution1",
                    "Institution2"
                ],
                "logo": "_static/logo_example.png",
                "subtitle": "Formatting Code Cells",
                "supervisors": [
                    "First Supervisor",
                    "Second Supervisor"
                ],
                "tagline": "Converted using IPyPublish ('latex\\_ipypublish\\_all.exec').",
                "title": "Example of Converted Jupyter Notebook"
            },
            "toc": true
        },
        "jupytext": {
            "metadata_filter": {
                "notebook": "ipub"
            },
            "text_representation": {
                "extension": ".Rmd",
                "format_name": "rmarkdown",
                "format_version": "1.0",
                "jupytext_version": "0.8.6"
            }
        },
        "kernelspec": {
            "display_name": "Python 3",
            "language": "python",
            "name": "python3"
        }
    },
    "nbformat": 4,
    "nbformat_minor": 2
}
