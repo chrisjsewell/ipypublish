{
 "cells": [
  {
   "cell_type": "markdown",
   "metadata": {
    "ipub": {
     "code": false,
     "equation": true,
     "error": false,
     "figure": {
      "placement": "H"
     },
     "mkdown": true,
     "slide": true,
     "table": {
      "placement": "H"
     },
     "text": true
    }
   },
   "source": [
    "# a title\n",
    "\n",
    "some text\n"
   ]
  },
  {
   "cell_type": "code",
   "execution_count": 2,
   "metadata": {
    "ipub": {
     "code": false,
     "equation": true,
     "error": false,
     "figure": {
      "placement": "H"
     },
     "mkdown": true,
     "slide": true,
     "table": {
      "placement": "H"
     },
     "text": true
    }
   },
   "outputs": [
    {
     "name": "stdout",
     "output_type": "stream",
     "text": [
      "1\n"
     ]
    }
   ],
   "source": [
    "a=1\n",
    "print(a)"
   ]
  }
 ],
 "metadata": {
  "ipub": {
   "listcode": false,
   "listfigures": false,
   "listtables": false,
   "toc": true
  },
  "kernelspec": {
   "display_name": "Python 3",
   "language": "python",
   "name": "python3"
  },
  "language_info": {
   "codemirror_mode": {
    "name": "ipython",
    "version": 3
   },
   "file_extension": ".py",
   "mimetype": "text/x-python",
   "name": "python",
   "nbconvert_exporter": "python",
   "pygments_lexer": "ipython3",
   "version": "3.6.1"
  },
  "name": "_merged",
  "test_name": "notebook1"
 },
 "nbformat": 4,
 "nbformat_minor": 2
}
